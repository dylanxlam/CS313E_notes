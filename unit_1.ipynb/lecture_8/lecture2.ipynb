{
 "cells": [
  {
   "cell_type": "markdown",
   "metadata": {},
   "source": [
    "### Lecture Notes on 28 Aug 2023"
   ]
  },
  {
   "cell_type": "markdown",
   "metadata": {},
   "source": [
    "#### Foundations of Object-Oriented Programming"
   ]
  },
  {
   "cell_type": "markdown",
   "metadata": {},
   "source": [
    "**Abstraction**\n",
    "- find the attributes and behaviors\n",
    "    - attributes become variables, behaviors become functions, add together to make a class\n",
    "\n",
    "**Encapsulation**\n",
    "- put the attributes and the behaviors together to define a class\n",
    "    - ex. cookies are objects, cookie cutter is class. Class is a template for which we define objects\n",
    "\n",
    "\n",
    "Informaion Hiding: make attributes private and functions public\n",
    "\n",
    "**Inheritance** \n",
    "- organization of classes into a hierarchy\n",
    "- How to determine inheritance relationship? Test if the expression classA \"is a\" classB makes sense\n",
    "    - Ex. America is a parent of Texas\n",
    "    - \"has-a(n)\" - is a test of composition\n",
    "    - what is the child clause inheriting from the parent clause? All attributes and methods or functions of the parent. \n",
    "        - The child class then adds to the attributes and adds to the methods\n",
    "        - In the child class you can override the methods inherited from the parent class\n",
    "\n",
    "- you cannot eliminate an attribute but you can effectively hide it.\n",
    "\n",
    "- polymorphism (poly = many, morphos = forms)\n",
    "\n"
   ]
  },
  {
   "cell_type": "markdown",
   "metadata": {},
   "source": [
    "**Object Inheritance by ChatGPT**\n",
    "\n",
    "\n",
    "- **Object Inheritance Basics:**\n",
    "  - Inheritance is a fundamental concept in object-oriented programming.\n",
    "  - It allows a class (subclass/derived class) to inherit properties and behaviors from another class (superclass/base class).\n",
    "  - This promotes code reusability and establishes a hierarchical relationship among classes.\n",
    "\n",
    "- **Key Terminology:**\n",
    "  - **Superclass/Base Class/Parent Class:** The class that provides the properties and methods to be inherited.\n",
    "  - **Subclass/Derived Class/Child Class:** The class that inherits properties and methods from the superclass.\n",
    "\n",
    "- **Syntax:**\n",
    "  - In Python, use the `class` statement with the name of the subclass and the name of the superclass in parentheses:\n",
    "    ```python\n",
    "    class SubClassName(SuperClassName):\n",
    "        # Subclass attributes and methods\n",
    "    ```\n",
    "\n",
    "- **Inherited vs. New Attributes/Methods:**\n",
    "  - Subclasses inherit all attributes and methods (except private ones) from the superclass.\n",
    "  - Subclasses can also have their own unique attributes and methods.\n",
    "\n",
    "- **Method Overriding:**\n",
    "  - Subclasses can provide a different implementation for a method inherited from the superclass.\n",
    "  - This is known as method overriding and allows customization of behavior in the subclass.\n",
    "\n",
    "- **Access to Superclass Methods:**\n",
    "  - Subclasses can call methods from the superclass using the `super()` function:\n",
    "    ```python\n",
    "    class SubClassName(SuperClassName):\n",
    "        def some_method(self):\n",
    "            super().superclass_method()  # Call superclass method\n",
    "    ```\n",
    "\n",
    "- **Multiple Inheritance:**\n",
    "  - Some languages support multiple inheritance, where a subclass can inherit from multiple superclasses.\n",
    "  - Care must be taken to avoid conflicts and ambiguities in method names and attributes.\n",
    "\n",
    "- **Method Resolution Order (MRO):**\n",
    "  - In languages with multiple inheritance, the order in which superclasses are searched to resolve a method call is determined by the method resolution order.\n",
    "\n",
    "- **Use Cases:**\n",
    "  - Inheritance is useful when there's a clear hierarchical relationship between classes, such as animals inheriting from a general \"Animal\" class.\n",
    "  - It's helpful for creating specialized versions of existing classes, promoting code reuse, and maintaining a consistent interface.\n",
    "\n",
    "- **Drawbacks:**\n",
    "  - Overuse of inheritance can lead to complex class hierarchies, making code harder to maintain.\n",
    "  - Changes in the superclass may have unintended consequences in subclasses.\n"
   ]
  }
 ],
 "metadata": {
  "language_info": {
   "name": "python"
  },
  "orig_nbformat": 4
 },
 "nbformat": 4,
 "nbformat_minor": 2
}
