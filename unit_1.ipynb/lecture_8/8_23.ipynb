{
 "cells": [
  {
   "cell_type": "markdown",
   "metadata": {},
   "source": [
    "### Lecture Notes on 23 Aug 2023"
   ]
  },
  {
   "cell_type": "markdown",
   "metadata": {},
   "source": [
    "**Hello World Program**"
   ]
  },
  {
   "cell_type": "code",
   "execution_count": 1,
   "metadata": {},
   "outputs": [
    {
     "name": "stdout",
     "output_type": "stream",
     "text": [
      "Hello World\n"
     ]
    }
   ],
   "source": [
    "def main():\n",
    "    print(\"Hello World\")\n",
    "main()"
   ]
  },
  {
   "cell_type": "markdown",
   "metadata": {},
   "source": [
    "**Characterset: ASCII and unicode**\n",
    "\n",
    "A=65\n",
    "\n",
    "a=97"
   ]
  },
  {
   "cell_type": "markdown",
   "metadata": {},
   "source": [
    "**Variables**\n",
    "\n",
    "- must start with a letter or underscore\n",
    "- can be followed by n number of letters, digits, and underscores\n",
    "- cannot be a reserved word like if, for , or, etc.\n",
    "\n",
    "- x = 2 : x is an address to memory\n",
    "- x = 3.14 : updated"
   ]
  },
  {
   "cell_type": "markdown",
   "metadata": {},
   "source": [
    "**Types** - strongly typed or weakly typed\n",
    "\n",
    "**Statement and expressions** \n",
    "\n",
    "- Assignment statement: X is 2, He is John\n",
    "\n",
    "**Operators**\n",
    "\n",
    "- Arithmetic: + - * / // % **\n",
    "- Comparison: < <= > >= == !=\n",
    "- Boolean: not, and, or\n",
    "- Bitwise: ~ (not), & (and), | (or), ^ (idk)\n",
    "- Shift: <<, >>\n",
    "\n",
    "**Conditionals**: if-else, if-elif-else\n",
    "\n",
    "**Loops**: while, for\n",
    "\n",
    "**Lists**: 1D, 2D, nD\n",
    "- 2D list is a 1D list where all components are 1D lists\n",
    "\n",
    "**Tuples**: ordered, need not be unique, immutable (cannot change)\n",
    "\n",
    "**Sets**: ordered, mutable, have to be unique\n",
    "\n",
    "**Dictionary**: set of key value pairs. Keys are unique\n",
    "\n",
    "**Input / Output**\n",
    "\n",
    "**Functions**\n",
    "- built-in: print, input, etc.\n",
    "- libraries: math, random, sys\n",
    "- user-defined\n",
    "\n",
    "**Class**: Body of code that follows the object-oriented principles\n",
    "\n",
    "**Principles of Object-Oriented Programming**\n",
    "- Abstraction: take something real and model it in software\n",
    "- Encapsulation: take attributes, create behaviors,put methods together to form a class\n",
    "\n",
    "    - Information Hiding: Presents the functionality of a class, while hiding the attributes\n",
    "\n",
    "\n",
    "\n",
    "- Inheritance: allows organizing classes into a hierarchy and reusing code\n",
    "- Polymorphism: (Many forms)\n",
    "\n"
   ]
  },
  {
   "cell_type": "markdown",
   "metadata": {},
   "source": [
    "**Characteristics of Good Software**\n",
    "\n",
    "Ordered\n",
    "1. Correctness\n",
    "2. Efficiency - time, space\n",
    "\n",
    "Not Ordered\n",
    "- Maintainability: can I make changes without breaking the system?\n",
    "- Aesthetics\n",
    "- Usability\n",
    "- Scalability: small to large inputs and users\n"
   ]
  },
  {
   "cell_type": "markdown",
   "metadata": {},
   "source": [
    "**Digit Swap Program**"
   ]
  },
  {
   "cell_type": "code",
   "execution_count": 1,
   "metadata": {},
   "outputs": [],
   "source": [
    "# Working in a plain text editor in terminal on Mac\n",
    "\n",
    "#! /usr/bin/python3\n",
    "\n",
    "# file: digitswap.py\n",
    "\n",
    "# date: 23 Aug 2023\n",
    "\n",
    "import sys\n",
    "\n",
    "def main():\n",
    "    line = sys.stdin.readline ()\n",
    "    line = line.strip()\n",
    "\n",
    "    n = int(line)\n",
    "    m = (n % 10) * 10 + (n // 10)\n",
    "\n",
    "    print(m)\n",
    "\n",
    "if __name__ == \"__Main__\":\n",
    "    main()\n"
   ]
  },
  {
   "cell_type": "markdown",
   "metadata": {},
   "source": [
    "To use the `vi` text editor for writing Python code on the command line in macOS, you can follow these steps:\n",
    "\n",
    "1. **Open Terminal**: Launch the Terminal application on your Mac. You can find it in the Applications folder under the Utilities subfolder.\n",
    "\n",
    "2. **Navigate to the Desired Directory**: Use the `cd` command to navigate to the directory where you want to create or edit your Python file. For example, to navigate to your Documents folder, you can use:\n",
    "   \n",
    "   ```bash\n",
    "   cd ~/Documents\n",
    "   ```\n",
    "\n",
    "3. **Create or Edit Python File**: To create a new Python file or edit an existing one, you can use the `vi` command followed by the desired filename with the `.py` extension. For example, to create or edit a file named `myscript.py`, you can use:\n",
    "\n",
    "   ```bash\n",
    "   vi myscript.py\n",
    "   ```\n",
    "\n",
    "4. **Enter Insert Mode**: Once the `vi` editor opens the file, you will be in \"Normal Mode.\" To start typing or editing, you need to switch to \"Insert Mode.\" Press `i` to enter Insert Mode.\n",
    "\n",
    "5. **Edit the Code**: Now you can start typing or editing your Python code. Use the keyboard to make your changes.\n",
    "\n",
    "6. **Save and Exit**: After you've made your changes, press the `Esc` key to exit Insert Mode and return to Normal Mode. Then, type `:w` to save the changes and `:q` to quit the `vi` editor. If you want to save and quit in one command, you can use `:wq`.\n",
    "\n",
    "7. **Discard Changes and Exit**: If you want to discard the changes and exit without saving, you can type `:q!`.\n",
    "\n",
    "Here's a summary of the basic commands in `vi`:\n",
    "\n",
    "- `i`: Enter Insert Mode\n",
    "- `Esc`: Exit Insert Mode and return to Normal Mode\n",
    "- `:w`: Save changes\n",
    "- `:q`: Quit the editor\n",
    "- `:wq`: Save changes and quit\n",
    "- `:q!`: Discard changes and quit\n",
    "\n",
    "Remember that `vi` can be a bit challenging if you're new to it, as it's a modal editor with different modes for different actions. You might want to explore other text editors that are more user-friendly for writing code, especially if you're just getting started with programming."
   ]
  }
 ],
 "metadata": {
  "kernelspec": {
   "display_name": "Python 3",
   "language": "python",
   "name": "python3"
  },
  "language_info": {
   "codemirror_mode": {
    "name": "ipython",
    "version": 3
   },
   "file_extension": ".py",
   "mimetype": "text/x-python",
   "name": "python",
   "nbconvert_exporter": "python",
   "pygments_lexer": "ipython3",
   "version": "3.11.1"
  },
  "orig_nbformat": 4
 },
 "nbformat": 4,
 "nbformat_minor": 2
}
