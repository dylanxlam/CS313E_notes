{
 "cells": [
  {
   "cell_type": "markdown",
   "metadata": {},
   "source": [
    "### Lecture Notes on 23 Aug 2023"
   ]
  },
  {
   "cell_type": "markdown",
   "metadata": {},
   "source": [
    "**Hello World Program**"
   ]
  },
  {
   "cell_type": "code",
   "execution_count": 1,
   "metadata": {},
   "outputs": [
    {
     "name": "stdout",
     "output_type": "stream",
     "text": [
      "Hello World\n"
     ]
    }
   ],
   "source": [
    "def main():\n",
    "    print(\"Hello World\")\n",
    "main()"
   ]
  },
  {
   "cell_type": "markdown",
   "metadata": {},
   "source": [
    "**Characterset: ASCII and unicode**\n",
    "\n",
    "A=65\n",
    "\n",
    "a=97"
   ]
  },
  {
   "cell_type": "markdown",
   "metadata": {},
   "source": [
    "**Variables**\n",
    "\n",
    "- must start with a letter or underscore\n",
    "- can be followed by n number of letters, digits, and underscores\n",
    "- cannot be a reserved word like if, for , or, etc.\n",
    "\n",
    "- x = 2 : x is an address to memory\n",
    "- x = 3.14 : updated"
   ]
  },
  {
   "cell_type": "markdown",
   "metadata": {},
   "source": [
    "**Types** - strongly typed or weakly typed\n",
    "\n",
    "**Statement and expressions** \n",
    "\n",
    "- Assignment statement: X is 2, He is John\n",
    "\n",
    "**Operators**\n",
    "\n",
    "- Arithmetic: + - * / // % **\n",
    "- Comparison: < <= > >= == !=\n",
    "- Boolean: not, and, or\n",
    "- Bitwise: ~ (not), & (and), | (or), ^ (idk)\n",
    "- Shift: <<, >>\n",
    "\n",
    "**Conditionals**: if-else, if-elif-else\n",
    "\n",
    "**Loops**: while, for\n",
    "\n",
    "**Lists**: 1D, 2D, nD\n",
    "- 2D list is a 1D list where all components are 1D lists\n",
    "\n",
    "**Tuples**: ordered, need not be unique, immutable (cannot change)\n",
    "\n",
    "**Sets**: ordered, mutable, have to be unique\n",
    "\n",
    "**Dictionary**: set of key value pairs. Keys are unique\n",
    "\n",
    "**Input / Output**\n",
    "\n",
    "**Functions**\n",
    "- built-in: print, input, etc.\n",
    "- libraries: math, random, sys\n",
    "- user-defined\n",
    "\n",
    "**Class**: Body of code that follows the object-oriented principles\n",
    "\n",
    "**Principles of Object-Oriented Programming**\n",
    "- Abstraction: take something real and model it in software\n",
    "- Encapsulation: take attributes, create behaviors,put methods together to form a class\n",
    "\n",
    "    - Information Hiding: Presents the functionality of a class, while hiding the attributes\n",
    "\n",
    "\n",
    "\n",
    "- Inheritance: allows organizing classes into a hierarchy and reusing code\n",
    "- Polymorphism: (Many forms)\n",
    "\n"
   ]
  },
  {
   "cell_type": "markdown",
   "metadata": {},
   "source": [
    "**Characteristics of Good Software**\n",
    "\n",
    "Ordered\n",
    "1. Correctness\n",
    "2. Efficiency - time, space\n",
    "\n",
    "Not Ordered\n",
    "- Maintainability: can I make changes without breaking the system?\n",
    "- Aesthetics\n",
    "- Usability\n",
    "- Scalability: small to large inputs and users\n"
   ]
  }
 ],
 "metadata": {
  "kernelspec": {
   "display_name": "Python 3",
   "language": "python",
   "name": "python3"
  },
  "language_info": {
   "codemirror_mode": {
    "name": "ipython",
    "version": 3
   },
   "file_extension": ".py",
   "mimetype": "text/x-python",
   "name": "python",
   "nbconvert_exporter": "python",
   "pygments_lexer": "ipython3",
   "version": "3.11.1"
  },
  "orig_nbformat": 4
 },
 "nbformat": 4,
 "nbformat_minor": 2
}
