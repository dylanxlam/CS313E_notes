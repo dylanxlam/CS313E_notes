{
 "cells": [
  {
   "cell_type": "markdown",
   "metadata": {},
   "source": [
    "### Lecture notes on September 6, 2023"
   ]
  },
  {
   "cell_type": "code",
   "execution_count": null,
   "metadata": {},
   "outputs": [],
   "source": [
    "import math\n",
    "\n",
    "class Point (object):\n",
    "    # constructor\n",
    "    def __init__ (self, x = 0, y = 0):\n",
    "        self.x = x # x is the value the user inputs, default (no input) is x = 0\n",
    "        self.y = y\n",
    "\n",
    "        # get the distance to another Point object\n",
    "    def dist (self, other): # other is the other point\n",
    "        return math.hypot(self.x - other.x, self.y - other.y)\n",
    "\n",
    "    # string representation of a Point\n",
    "    def __str__ (self):\n",
    "        return '(' + str(self.x) + ', ' + str(self.y) + ')'\n",
    "\n",
    "    # test for equality of two Point Obje\n"
   ]
  }
 ],
 "metadata": {
  "kernelspec": {
   "display_name": "Python 3",
   "language": "python",
   "name": "python3"
  },
  "language_info": {
   "name": "python",
   "version": "3.11.1"
  },
  "orig_nbformat": 4
 },
 "nbformat": 4,
 "nbformat_minor": 2
}
