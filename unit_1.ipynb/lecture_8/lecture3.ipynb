{
 "cells": [
  {
   "cell_type": "markdown",
   "metadata": {},
   "source": [
    "### Lecture notes on September 6, 2023"
   ]
  },
  {
   "cell_type": "code",
   "execution_count": 1,
   "metadata": {},
   "outputs": [
    {
     "ename": "NameError",
     "evalue": "name 'Point' is not defined",
     "output_type": "error",
     "traceback": [
      "\u001b[0;31m---------------------------------------------------------------------------\u001b[0m",
      "\u001b[0;31mNameError\u001b[0m                                 Traceback (most recent call last)",
      "Cell \u001b[0;32mIn[1], line 3\u001b[0m\n\u001b[1;32m      1\u001b[0m \u001b[39mimport\u001b[39;00m \u001b[39mmath\u001b[39;00m\n\u001b[0;32m----> 3\u001b[0m \u001b[39mclass\u001b[39;49;00m \u001b[39mPoint\u001b[39;49;00m (\u001b[39mobject\u001b[39;49m):\n\u001b[1;32m      4\u001b[0m     \u001b[39m# constructor\u001b[39;49;00m\n\u001b[1;32m      5\u001b[0m     \u001b[39mdef\u001b[39;49;00m \u001b[39m__init__\u001b[39;49m (\u001b[39mself\u001b[39;49m, x \u001b[39m=\u001b[39;49m \u001b[39m0\u001b[39;49m, y \u001b[39m=\u001b[39;49m \u001b[39m0\u001b[39;49m):\n\u001b[1;32m      6\u001b[0m         \u001b[39mself\u001b[39;49m\u001b[39m.\u001b[39;49mx \u001b[39m=\u001b[39;49m x \u001b[39m# x is the value the user inputs, default (no input) is x = 0\u001b[39;49;00m\n",
      "Cell \u001b[0;32mIn[1], line 42\u001b[0m, in \u001b[0;36mPoint\u001b[0;34m()\u001b[0m\n\u001b[1;32m     39\u001b[0m     \u001b[39melse\u001b[39;00m:\n\u001b[1;32m     40\u001b[0m         \u001b[39mprint\u001b[39m(\u001b[39m\"\u001b[39m\u001b[39mObjects are not equal\u001b[39m\u001b[39m\"\u001b[39m)\n\u001b[0;32m---> 42\u001b[0m main()\n",
      "Cell \u001b[0;32mIn[1], line 25\u001b[0m, in \u001b[0;36mPoint.main\u001b[0;34m()\u001b[0m\n\u001b[1;32m     23\u001b[0m \u001b[39mdef\u001b[39;00m \u001b[39mmain\u001b[39m():\n\u001b[1;32m     24\u001b[0m     \u001b[39m# create Point Objects\u001b[39;00m\n\u001b[0;32m---> 25\u001b[0m     a \u001b[39m=\u001b[39m Point()\n\u001b[1;32m     26\u001b[0m     b \u001b[39m=\u001b[39m Point (\u001b[39m3\u001b[39m,\u001b[39m4\u001b[39m)\n\u001b[1;32m     27\u001b[0m     c \u001b[39m=\u001b[39m Point (\u001b[39m3\u001b[39m,\u001b[39m4\u001b[39m)\n",
      "\u001b[0;31mNameError\u001b[0m: name 'Point' is not defined"
     ]
    }
   ],
   "source": [
    "import math\n",
    "\n",
    "class Point (object):\n",
    "    # constructor\n",
    "    def __init__ (self, x = 0, y = 0):\n",
    "        self.x = x # x is the value the user inputs, default (no input) is x = 0\n",
    "        self.y = y\n",
    "\n",
    "        # get the distance to another Point object\n",
    "    def dist (self, other): # other is the other point\n",
    "        return math.hypot(self.x - other.x, self.y - other.y)\n",
    "\n",
    "    # string representation of a Point\n",
    "    def __str__ (self):\n",
    "        return '(' + str(self.x) + ', ' + str(self.y) + ')'\n",
    "\n",
    "    # test for equality of two Point Objects\n",
    "    def __eq__ (self, other):\n",
    "        tol = 1.0e-6\n",
    "        return ((abs(self.x - other.x) < tol) and (abs(self.y - other.y) < tol))\n",
    "\n",
    "\n",
    "\n",
    "def main():\n",
    "    # create Point Objects\n",
    "    a = Point()\n",
    "    b = Point (3,4)\n",
    "    c = Point (3,4)\n",
    "\n",
    "    print (a)\n",
    "    print(b)\n",
    "\n",
    "    # print the distance between Point ovjects\n",
    "    print(a.dist(b))\n",
    "    print(b.dist(a))\n",
    "\n",
    "    # test for equality\n",
    "    if b == c: # not equal because they are comparing memory address\n",
    "        print(\"Points objects are equal\")\n",
    "    else:\n",
    "        print(\"Objects are not equal\")\n",
    "\n",
    "if __name__ == '__main__':\n",
    "    main()\n"
   ]
  }
 ],
 "metadata": {
  "kernelspec": {
   "display_name": "Python 3",
   "language": "python",
   "name": "python3"
  },
  "language_info": {
   "codemirror_mode": {
    "name": "ipython",
    "version": 3
   },
   "file_extension": ".py",
   "mimetype": "text/x-python",
   "name": "python",
   "nbconvert_exporter": "python",
   "pygments_lexer": "ipython3",
   "version": "3.11.1"
  },
  "orig_nbformat": 4
 },
 "nbformat": 4,
 "nbformat_minor": 2
}
