{
 "cells": [
  {
   "cell_type": "markdown",
   "metadata": {},
   "source": [
    "### Lecture Notes on 23 Aug 2023"
   ]
  },
  {
   "cell_type": "markdown",
   "metadata": {},
   "source": [
    "**Hello World Program**"
   ]
  },
  {
   "cell_type": "code",
   "execution_count": 1,
   "metadata": {},
   "outputs": [
    {
     "name": "stdout",
     "output_type": "stream",
     "text": [
      "Hello World\n"
     ]
    }
   ],
   "source": [
    "def main():\n",
    "    print(\"Hello World\")\n",
    "main()"
   ]
  },
  {
   "cell_type": "markdown",
   "metadata": {},
   "source": [
    "**Characterset: ASCII and unicode**\n",
    "\n",
    "A=65\n",
    "\n",
    "a=97"
   ]
  },
  {
   "cell_type": "markdown",
   "metadata": {},
   "source": [
    "**Variables**\n",
    "\n",
    "- must start with a letter or underscore\n",
    "- can be followed by n number of letters, digits, and underscores\n",
    "- cannot be a reserved word like if, for , or, etc.\n",
    "\n",
    "- x = 2 : x is an address to memory\n",
    "- x = 3.14 : updated"
   ]
  },
  {
   "cell_type": "markdown",
   "metadata": {},
   "source": [
    "**Data Structures**\n",
    "\n",
    "**Lists:**\n",
    "- Ordered collection of elements\n",
    "- Mutable (can be changed after creation)\n",
    "- Created using square brackets: `my_list = [1, 2, 3]`\n",
    "- Elements can be of different types\n",
    "- Supports indexing and slicing\n",
    "\n",
    "**Tuples:**\n",
    "- Ordered collection of elements\n",
    "- Immutable (cannot be changed after creation)\n",
    "- Created using parentheses: `my_tuple = (1, 2, 3)`\n",
    "- Supports indexing and slicing\n",
    "- Often used for grouping related values\n",
    "\n",
    "**Sets:**\n",
    "- Unordered collection of unique elements\n",
    "- Mutable, but elements must be immutable (e.g., numbers, strings)\n",
    "- Created using curly braces or the `set()` constructor: `my_set = {1, 2, 3}`\n",
    "- Useful for removing duplicates and testing membership\n",
    "\n",
    "**Dictionaries:**\n",
    "- Unordered collection of key-value pairs\n",
    "- Mutable\n",
    "- Created using curly braces and key-value pairs: `my_dict = {'name': 'Alice', 'age': 30}`\n",
    "- Access values using keys: `my_dict['name']`\n",
    "- Keys must be unique and immutable (e.g., strings, numbers), values can be of any type\n",
    "\n",
    "**Strings:**\n",
    "- Sequence of characters\n",
    "- Immutable\n",
    "- Created using single or double quotes: `my_string = 'Hello, World!'`\n",
    "- Supports indexing, slicing, and various string methods\n",
    "- Often used for text processing and manipulation\n",
    "\n",
    "**Arrays (from `array` module):**\n",
    "- Homogeneous collection of elements (all of the same type)\n",
    "- More memory-efficient than lists for numerical data\n",
    "- Created using the `array.array` constructor\n",
    "- Supports common array operations, like indexing and slicing\n",
    "\n",
    "**LinkedLists (custom implementation):**\n",
    "- Sequence of elements where each element points to the next one\n",
    "- Custom implementations using classes and references\n",
    "- Different types: singly linked, doubly linked, circular linked\n",
    "- Efficient insertion and deletion at certain positions\n",
    "\n",
    "**Stacks and Queues (custom implementation):**\n",
    "- Stacks: Last-in, first-out (LIFO) structure\n",
    "- Queues: First-in, first-out (FIFO) structure\n",
    "- Implemented using lists, linked lists, or other data structures\n",
    "- Useful for managing data in specific orders\n",
    "\n",
    "**Dictionaries (collections module):**\n",
    "- `collections` module provides alternative dictionary implementations:\n",
    "  - `defaultdict`: Provides default values for missing keys\n",
    "  - `OrderedDict`: Preserves the order of key insertion\n",
    "  - `Counter`: Counts occurrences of elements\n",
    "  - `ChainMap`: Groups multiple dictionaries as a single unit"
   ]
  },
  {
   "cell_type": "markdown",
   "metadata": {},
   "source": [
    "**Types** - strongly typed or weakly typed\n",
    "\n",
    "**Statement and expressions** \n",
    "\n",
    "- Assignment statement: X is 2, He is John\n",
    "\n",
    "**Operators**\n",
    "\n",
    "- Arithmetic: + - * / // % **\n",
    "- Comparison: < <= > >= == !=\n",
    "- Boolean: not, and, or\n",
    "- Bitwise: ~ (not), & (and), | (or), ^ (idk)\n",
    "- Shift: <<, >>\n",
    "\n",
    "**Conditionals**: if-else, if-elif-else\n",
    "\n",
    "**Loops**: while, for\n",
    "\n",
    "**Input / Output**\n",
    "\n",
    "**Functions**\n",
    "- built-in: print, input, etc.\n",
    "- libraries: math, random, sys\n",
    "- user-defined\n",
    "\n",
    "**Class**: Body of code that follows the object-oriented principles\n",
    "\n",
    "**Principles of Object-Oriented Programming**\n",
    "- Abstraction: take something real and model it in software\n",
    "- Encapsulation: take attributes, create behaviors,put methods together to form a class\n",
    "\n",
    "    - Information Hiding: Presents the functionality of a class, while hiding the attributes\n",
    "\n",
    "\n",
    "\n",
    "- Inheritance: allows organizing classes into a hierarchy and reusing code\n",
    "- Polymorphism: (Many forms)\n",
    "\n"
   ]
  },
  {
   "cell_type": "markdown",
   "metadata": {},
   "source": [
    "**Characteristics of Good Software**\n",
    "\n",
    "Ordered\n",
    "1. Correctness\n",
    "2. Efficiency - time, space\n",
    "\n",
    "Not Ordered\n",
    "- Maintainability: can I make changes without breaking the system?\n",
    "- Aesthetics\n",
    "- Usability\n",
    "- Scalability: small to large inputs and users\n"
   ]
  },
  {
   "cell_type": "markdown",
   "metadata": {},
   "source": [
    "**Digit Swap Program**"
   ]
  },
  {
   "cell_type": "code",
   "execution_count": 1,
   "metadata": {},
   "outputs": [],
   "source": [
    "# Working in a plain text editor in terminal on Mac\n",
    "\n",
    "#! /usr/bin/python3\n",
    "\n",
    "# file: digitswap.py\n",
    "\n",
    "# date: 23 Aug 2023\n",
    "\n",
    "import sys\n",
    "\n",
    "def main():\n",
    "    line = sys.stdin.readline ()\n",
    "    line = line.strip()\n",
    "\n",
    "    n = int(line)\n",
    "    m = (n % 10) * 10 + (n // 10)\n",
    "\n",
    "    print(m)\n",
    "\n",
    "if __name__ == \"__Main__\":\n",
    "    main()\n"
   ]
  },
  {
   "cell_type": "markdown",
   "metadata": {},
   "source": [
    "To use the `vi` text editor for writing Python code on the command line in macOS, you can follow these steps:\n",
    "\n",
    "1. **Open Terminal**: Launch the Terminal application on your Mac. You can find it in the Applications folder under the Utilities subfolder.\n",
    "\n",
    "2. **Navigate to the Desired Directory**: Use the `cd` command to navigate to the directory where you want to create or edit your Python file. For example, to navigate to your Documents folder, you can use:\n",
    "   \n",
    "   ```bash\n",
    "   cd ~/Documents\n",
    "   ```\n",
    "\n",
    "3. **Create or Edit Python File**: To create a new Python file or edit an existing one, you can use the `vi` command followed by the desired filename with the `.py` extension. For example, to create or edit a file named `myscript.py`, you can use:\n",
    "\n",
    "   ```bash\n",
    "   vi myscript.py\n",
    "   ```\n",
    "\n",
    "4. **Enter Insert Mode**: Once the `vi` editor opens the file, you will be in \"Normal Mode.\" To start typing or editing, you need to switch to \"Insert Mode.\" Press `i` to enter Insert Mode.\n",
    "\n",
    "5. **Edit the Code**: Now you can start typing or editing your Python code. Use the keyboard to make your changes.\n",
    "\n",
    "6. **Save and Exit**: After you've made your changes, press the `Esc` key to exit Insert Mode and return to Normal Mode. Then, type `:w` to save the changes and `:q` to quit the `vi` editor. If you want to save and quit in one command, you can use `:wq`.\n",
    "\n",
    "7. **Discard Changes and Exit**: If you want to discard the changes and exit without saving, you can type `:q!`.\n",
    "\n",
    "Here's a summary of the basic commands in `vi`:\n",
    "\n",
    "- `i`: Enter Insert Mode\n",
    "- `Esc`: Exit Insert Mode and return to Normal Mode\n",
    "- `:w`: Save changes\n",
    "- `:q`: Quit the editor\n",
    "- `:wq`: Save changes and quit\n",
    "- `:q!`: Discard changes and quit\n",
    "\n",
    "Remember that `vi` can be a bit challenging if you're new to it, as it's a modal editor with different modes for different actions. You might want to explore other text editors that are more user-friendly for writing code, especially if you're just getting started with programming."
   ]
  }
 ],
 "metadata": {
  "kernelspec": {
   "display_name": "Python 3",
   "language": "python",
   "name": "python3"
  },
  "language_info": {
   "codemirror_mode": {
    "name": "ipython",
    "version": 3
   },
   "file_extension": ".py",
   "mimetype": "text/x-python",
   "name": "python",
   "nbconvert_exporter": "python",
   "pygments_lexer": "ipython3",
   "version": "3.11.1"
  },
  "orig_nbformat": 4
 },
 "nbformat": 4,
 "nbformat_minor": 2
}
