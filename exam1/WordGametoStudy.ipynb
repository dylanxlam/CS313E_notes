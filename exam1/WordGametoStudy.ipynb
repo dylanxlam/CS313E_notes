{
 "cells": [
  {
   "cell_type": "code",
   "execution_count": null,
   "metadata": {},
   "outputs": [],
   "source": [
    "import sys\n",
    "from typing import List, Tuple\n",
    "\n",
    "def wordgame(guesses: List[List[Tuple[str, str]]], dictionary: List[str]) -> List[str]:\n",
    "    # Create a copy of the dictionary as the initial set of potential secret words\n",
    "    words = dictionary.copy()\n",
    "\n",
    "    # Iterate through each guess in the list of guesses\n",
    "    for guess in guesses:\n",
    "        # Iterate through each tuple (letter, color) in the guess sequence\n",
    "        for i, (letter, color) in enumerate(guess):\n",
    "            # Check the color of the letter and update the list of potential words accordingly\n",
    "\n",
    "            # If the color is 'G' (green), filter words that have the guessed letter at the corresponding position (i)\n",
    "            if color == 'G':\n",
    "                words = [word for word in words if word[i] == letter]\n",
    "\n",
    "            # If the color is 'Y' (yellow), filter words that contain the guessed letter but not at the corresponding position (i)\n",
    "            elif color == 'Y':\n",
    "                words = [word for word in words if letter in word and word[i] != letter]\n",
    "\n",
    "            # If the color is 'B' (black), filter words that do not contain the guessed letter\n",
    "            elif color == 'B':\n",
    "                words = [word for word in words if letter not in word]\n",
    "\n",
    "    # Return the filtered list of words, representing potential secret words that match the guesses\n",
    "    return words\n"
   ]
  },
  {
   "cell_type": "markdown",
   "metadata": {},
   "source": [
    "Certainly! The `wordgame` function is designed to filter a list of words based on a series of guesses provided as input. It takes two arguments:\n",
    "\n",
    "1. `guesses`: A list of guess sequences, where each guess sequence is a list of tuples. Each tuple contains two elements: a letter and a color ('G' for green, 'Y' for yellow, or 'B' for black). The guesses represent player attempts to guess a secret word, where each letter's color provides information about correctness.\n",
    "2. `dictionary`: A list of words from which potential secret words are chosen.\n",
    "\n",
    "The function's goal is to narrow down the list of potential secret words based on the guesses provided and return the updated list of words that match the given guesses.\n",
    "\n",
    "Here's the step-by-step explanation of the code logic:\n",
    "\n",
    "1. The function initializes a `words` variable by creating a copy of the provided `dictionary`. This `words` list will be progressively filtered based on the guesses.\n",
    "\n",
    "2. It iterates through each guess in the `guesses` list.\n",
    "\n",
    "3. For each guess, it iterates through the tuples in the guess sequence, where each tuple represents a letter and its associated color.\n",
    "\n",
    "4. Depending on the color of the letter, the function filters the `words` list:\n",
    "   - If the color is 'G' (green), it keeps only the words in `words` that have the guessed letter at the corresponding position.\n",
    "   - If the color is 'Y' (yellow), it keeps only the words in `words` that contain the guessed letter but not at the corresponding position.\n",
    "   - If the color is 'B' (black), it keeps only the words in `words` that do not contain the guessed letter.\n",
    "\n",
    "5. After processing all the guesses, the function returns the filtered `words` list, which represents the potential secret words that match all the provided guesses.\n",
    "\n",
    "In summary, the function refines a list of potential secret words based on a series of guesses by filtering out words that do not match the given guesses. It returns the updated list of words that are consistent with all the provided information."
   ]
  }
 ],
 "metadata": {
  "language_info": {
   "name": "python"
  },
  "orig_nbformat": 4
 },
 "nbformat": 4,
 "nbformat_minor": 2
}
