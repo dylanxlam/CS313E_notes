{
 "cells": [
  {
   "cell_type": "markdown",
   "metadata": {},
   "source": [
    "In the gradebook for HW 7, you should see a comment for that assignment with your code attached. \n",
    "\n",
    "In this code, the comments made by the other group as well as comments made by Dr. Patrick are at the bottom.\n",
    "\n",
    "#### **First:**\n",
    "For every comment made by the other group, fix the issue they found. If you believe they were in error in their comment, then respond by why you think they were in error.\n",
    "\n",
    "#### **Then:**\n",
    "\n",
    "Correct the mistakes outlined by Dr. Patrick's comment.\n",
    "Submit your updated code as a .py file. Keep the comments at the bottom and include your responses to those comments.\n",
    "You are to work on this on your own. You are not to work together (even in your groups). If you have questions, ask Dr. Patrick"
   ]
  },
  {
   "cell_type": "markdown",
   "metadata": {},
   "source": [
    "The comments at the bottom is what I have to fix. The comments in the first portion is from when another group attempted to run the code. The comments in the second portion is from the professor. I texted you the directions that he gave."
   ]
  }
 ],
 "metadata": {
  "language_info": {
   "name": "python"
  },
  "orig_nbformat": 4
 },
 "nbformat": 4,
 "nbformat_minor": 2
}
