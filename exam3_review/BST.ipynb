{
 "cells": [
  {
   "cell_type": "markdown",
   "metadata": {},
   "source": [
    "* You should be able to add to the functionality of the BinarySearchTree\n",
    "  class, modify the BinarySearchTree class, or apply the BinarySearchTree\n",
    "  class to solve simple problems."
   ]
  },
  {
   "cell_type": "markdown",
   "metadata": {},
   "source": [
    "emphasis will be on the new material that you were \n",
    "  not tested on - Binary Trees, Graphs and Dynamic Programming."
   ]
  }
 ],
 "metadata": {
  "language_info": {
   "name": "python"
  },
  "orig_nbformat": 4
 },
 "nbformat": 4,
 "nbformat_minor": 2
}
