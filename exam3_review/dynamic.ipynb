{
 "cells": [
  {
   "cell_type": "markdown",
   "metadata": {},
   "source": [
    "emphasis will be on the new material that you were \n",
    "  not tested on - Binary Trees, Graphs and Dynamic Programming."
   ]
  },
  {
   "cell_type": "markdown",
   "metadata": {},
   "source": [
    "---"
   ]
  },
  {
   "cell_type": "markdown",
   "metadata": {},
   "source": [
    "### **Key Concepts**"
   ]
  },
  {
   "cell_type": "markdown",
   "metadata": {},
   "source": [
    "1. Overlapping Subproblems\n",
    "Definition: The same subproblems are solved multiple times in the course of solving the main problem.\n",
    "Role in DP: Solutions to subproblems are stored in a table to avoid recomputation.\n",
    "\n",
    "Example - Fibonacci Sequence:\n",
    "\n"
   ]
  },
  {
   "cell_type": "code",
   "execution_count": null,
   "metadata": {},
   "outputs": [],
   "source": [
    "# Memoization\n",
    "def fib(n, memo={}):\n",
    "    if n in memo:\n",
    "        return memo[n]\n",
    "    if n <= 2:\n",
    "        return 1\n",
    "    memo[n] = fib(n - 1) + fib(n - 2)\n",
    "    return memo[n]\n"
   ]
  },
  {
   "cell_type": "markdown",
   "metadata": {},
   "source": [
    "2. Optimal Substructure\n",
    "Definition: An optimal solution to the problem can be constructed from optimal solutions of its subproblems.\n",
    "Role in DP: Decomposing the problem into subproblems leads to an optimal solution for the entire problem.\n",
    "\n",
    "Example - Longest Common Subsequence:"
   ]
  },
  {
   "cell_type": "code",
   "execution_count": null,
   "metadata": {},
   "outputs": [],
   "source": [
    "def lcs(X, Y):\n",
    "    m, n = len(X), len(Y)\n",
    "    dp = [[0] * (n + 1) for _ in range(m + 1)]\n",
    "\n",
    "    for i in range(1, m + 1):\n",
    "        for j in range(1, n + 1):\n",
    "            if X[i - 1] == Y[j - 1]:\n",
    "                dp[i][j] = dp[i - 1][j - 1] + 1\n",
    "            else:\n",
    "                dp[i][j] = max(dp[i - 1][j], dp[i][j - 1])\n",
    "\n",
    "    return dp[m][n]\n"
   ]
  },
  {
   "cell_type": "markdown",
   "metadata": {},
   "source": [
    "3. Memoization\n",
    "Definition: Caching the results of expensive function calls and returning the cached result when the same inputs occur again.\n",
    "Role in DP: Ensures that each subproblem is solved only once, saving time through reuse of previously computed solutions.\n",
    "Example - Knapsack Problem:"
   ]
  },
  {
   "cell_type": "code",
   "execution_count": null,
   "metadata": {},
   "outputs": [],
   "source": [
    "def knapsack(values, weights, capacity, n, memo={}):\n",
    "    if n == 0 or capacity == 0:\n",
    "        return 0\n",
    "\n",
    "    if (n, capacity) in memo:\n",
    "        return memo[(n, capacity)]\n",
    "\n",
    "    if weights[n - 1] > capacity:\n",
    "        result = knapsack(values, weights, capacity, n - 1, memo)\n",
    "    else:\n",
    "        include = values[n - 1] + knapsack(values, weights, capacity - weights[n - 1], n - 1, memo)\n",
    "        exclude = knapsack(values, weights, capacity, n - 1, memo)\n",
    "        result = max(include, exclude)\n",
    "\n",
    "    memo[(n, capacity)] = result\n",
    "    return result\n"
   ]
  },
  {
   "cell_type": "markdown",
   "metadata": {},
   "source": [
    "---"
   ]
  },
  {
   "cell_type": "markdown",
   "metadata": {},
   "source": [
    "### **Steps for Dynamic Programming**"
   ]
  },
  {
   "cell_type": "markdown",
   "metadata": {},
   "source": [
    "1. Define the Objective Function:\n",
    "* Clearly articulate the objective function representing the solution to the problem.\n",
    "\n",
    "Example - Matrix Chain Multiplication:"
   ]
  },
  {
   "cell_type": "code",
   "execution_count": null,
   "metadata": {},
   "outputs": [],
   "source": [
    "def matrix_chain_order(p):\n",
    "    n = len(p) - 1\n",
    "    dp = [[float('inf')] * n for _ in range(n)]\n",
    "\n",
    "    for i in range(n):\n",
    "        dp[i][i] = 0\n",
    "\n",
    "    for l in range(2, n + 1):\n",
    "        for i in range(n - l + 1):\n",
    "            j = i + l - 1\n",
    "            for k in range(i, j):\n",
    "                cost = dp[i][k] + dp[k + 1][j] + p[i] * p[k + 1] * p[j + 1]\n",
    "                dp[i][j] = min(dp[i][j], cost)\n",
    "\n",
    "    return dp[0][n - 1]\n"
   ]
  },
  {
   "cell_type": "markdown",
   "metadata": {},
   "source": [
    "1. Identify the Base Cases:\n",
    "\n",
    "* Recognize the simplest subproblems that can be solved directly without further decomposition.\n",
    "\n",
    "2. Recurrence Relation:\n",
    "\n",
    "* Formulate a recurrence relation expressing the solution to a larger subproblem in terms of the solutions to smaller subproblems.\n",
    "\n",
    "3. Top-Down (Memoization):\n",
    "\n",
    "* Implement the solution recursively, memoizing the results of subproblems to eliminate redundant computations.\n",
    "\n",
    "4. Bottom-Up (Tabulation):\n",
    "\n",
    "* Use a table to iteratively build up solutions to larger subproblems, starting from the base cases."
   ]
  }
 ],
 "metadata": {
  "language_info": {
   "name": "python"
  },
  "orig_nbformat": 4
 },
 "nbformat": 4,
 "nbformat_minor": 2
}
