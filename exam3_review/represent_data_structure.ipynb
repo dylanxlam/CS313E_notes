{
 "cells": [
  {
   "cell_type": "markdown",
   "metadata": {},
   "source": [
    "* Given the description of a new data structure you should be able \n",
    "  to write the class to represent it."
   ]
  },
  {
   "cell_type": "markdown",
   "metadata": {},
   "source": [
    "Writing a class to represent a new data structure involves defining the structure's properties (attributes) and behaviors (methods). Below is a general guide to help you write a class:\n",
    "\n",
    "1. **Identify the Properties (Attributes):**\n",
    "   - Determine what information needs to be stored.\n",
    "   - Identify the attributes that represent the state of the data structure.\n",
    "\n",
    "2. **Define the Initializer (Constructor):**\n",
    "   - Write an `__init__` method to initialize the attributes.\n",
    "   - Set default values or accept parameters during initialization.\n",
    "\n",
    "3. **Implement Necessary Methods:**\n",
    "   - Define methods to perform operations on the data structure.\n",
    "   - Consider standard operations relevant to the data structure.\n",
    "\n",
    "4. **Handle Edge Cases:**\n",
    "   - Anticipate and handle edge cases, such as empty structures or special scenarios.\n",
    "\n",
    "5. **Consider Encapsulation:**\n",
    "   - Encapsulate the internal state by making attributes private (using a single leading underscore `_`).\n",
    "   - Provide public methods for interacting with the data structure.\n",
    "\n",
    "6. **Add String Representation (Optional):**\n",
    "   - Implement a `__str__` method to provide a human-readable string representation of the data structure.\n",
    "\n",
    "7. **Handle Errors and Exceptions:**\n",
    "   - Include error handling mechanisms to ensure robustness.\n",
    "\n",
    "8. **Write Test Cases:**\n",
    "   - Develop test cases to verify that the class works as expected.\n",
    "   - Consider using a testing framework like `unittest` or `pytest`.\n"
   ]
  },
  {
   "cell_type": "markdown",
   "metadata": {},
   "source": [
    "### Example 1: Queue\n"
   ]
  },
  {
   "cell_type": "code",
   "execution_count": null,
   "metadata": {},
   "outputs": [],
   "source": [
    "\n",
    "class Queue:\n",
    "    def __init__(self):\n",
    "        self._items = []\n",
    "\n",
    "    def is_empty(self):\n",
    "        return not bool(self._items)\n",
    "\n",
    "    def enqueue(self, item):\n",
    "        self._items.append(item)\n",
    "\n",
    "    def dequeue(self):\n",
    "        if not self.is_empty():\n",
    "            return self._items.pop(0)\n",
    "\n",
    "    def size(self):\n",
    "        return len(self._items)\n",
    "\n",
    "    def __str__(self):\n",
    "        return str(self._items)\n",
    "\n",
    "# Example usage:\n",
    "queue = Queue()\n",
    "queue.enqueue(1)\n",
    "queue.enqueue(2)\n",
    "queue.enqueue(3)\n",
    "\n",
    "print(queue.dequeue())  # Output: 1\n",
    "print(queue.size())  # Output: 2\n",
    "print(queue.is_empty())  # Output: False\n",
    "print(queue)  # Output: [2, 3]\n",
    "\n"
   ]
  },
  {
   "cell_type": "markdown",
   "metadata": {},
   "source": [
    "### Example 2: Binary Tree\n"
   ]
  },
  {
   "cell_type": "code",
   "execution_count": null,
   "metadata": {},
   "outputs": [],
   "source": [
    "class Node:\n",
    "    def __init__(self, key):\n",
    "        self.key = key\n",
    "        self.left = None\n",
    "        self.right = None\n",
    "\n",
    "class BinaryTree:\n",
    "    def __init__(self):\n",
    "        self.root = None\n",
    "\n",
    "    def insert(self, key):\n",
    "        self.root = self._insert(self.root, key)\n",
    "\n",
    "    def _insert(self, root, key):\n",
    "        if root is None:\n",
    "            return Node(key)\n",
    "        if key < root.key:\n",
    "            root.left = self._insert(root.left, key)\n",
    "        elif key > root.key:\n",
    "            root.right = self._insert(root.right, key)\n",
    "        return root\n",
    "\n",
    "    def inorder_traversal(self):\n",
    "        result = []\n",
    "        self._inorder_traversal(self.root, result)\n",
    "        return result\n",
    "\n",
    "    def _inorder_traversal(self, root, result):\n",
    "        if root:\n",
    "            self._inorder_traversal(root.left, result)\n",
    "            result.append(root.key)\n",
    "            self._inorder_traversal(root.right, result)\n",
    "\n",
    "# Example usage:\n",
    "binary_tree = BinaryTree()\n",
    "binary_tree.insert(5)\n",
    "binary_tree.insert(3)\n",
    "binary_tree.insert(8)\n",
    "binary_tree.insert(2)\n",
    "binary_tree.insert(4)\n",
    "\n",
    "print(binary_tree.inorder_traversal())  # Output: [2, 3, 4, 5, 8]\n",
    "\n",
    "\n"
   ]
  },
  {
   "cell_type": "markdown",
   "metadata": {},
   "source": [
    "### Example 3: Graph\n"
   ]
  },
  {
   "cell_type": "code",
   "execution_count": null,
   "metadata": {},
   "outputs": [],
   "source": [
    "class Graph:\n",
    "    def __init__(self):\n",
    "        self.vertices = {}\n",
    "        \n",
    "    def add_vertex(self, vertex):\n",
    "        if vertex not in self.vertices:\n",
    "            self.vertices[vertex] = []\n",
    "\n",
    "    def add_edge(self, vertex1, vertex2):\n",
    "        if vertex1 in self.vertices and vertex2 in self.vertices:\n",
    "            self.vertices[vertex1].append(vertex2)\n",
    "            self.vertices[vertex2].append(vertex1)\n",
    "\n",
    "    def __str__(self):\n",
    "        return str(self.vertices)\n",
    "\n",
    "# Example usage:\n",
    "graph = Graph()\n",
    "graph.add_vertex('A')\n",
    "graph.add_vertex('B')\n",
    "graph.add_vertex('C')\n",
    "\n",
    "graph.add_edge('A', 'B')\n",
    "graph.add_edge('B', 'C')\n",
    "\n",
    "print(graph)  # Output: {'A': ['B'], 'B': ['A', 'C'], 'C': ['B']}\n"
   ]
  }
 ],
 "metadata": {
  "language_info": {
   "name": "python"
  },
  "orig_nbformat": 4
 },
 "nbformat": 4,
 "nbformat_minor": 2
}
