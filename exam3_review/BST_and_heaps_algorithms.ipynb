{
 "cells": [
  {
   "cell_type": "markdown",
   "metadata": {},
   "source": [
    "* You should know the algorithms that we covered using the following \n",
    "  data structures -  binary search trees and heaps. You should \n",
    "  be able to modify the data structures according to specifications - \n",
    "  like creating a create trees that are not strictly binary search \n",
    "  trees like expression trees or graphs with adjacency lists."
   ]
  }
 ],
 "metadata": {
  "language_info": {
   "name": "python"
  },
  "orig_nbformat": 4
 },
 "nbformat": 4,
 "nbformat_minor": 2
}
