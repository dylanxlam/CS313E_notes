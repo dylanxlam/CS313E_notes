{
 "cells": [
  {
   "cell_type": "markdown",
   "metadata": {},
   "source": [
    "* You must be able to obtain the adjacency matrix for a given graph.\n",
    "  Or given the adjacency matrix build the graph. You should be able\n",
    "  to build a graph using adjacency lists or add an Edge class to your\n",
    "  graph representation. You should be able add functions to the \n",
    "  Graph class."
   ]
  }
 ],
 "metadata": {
  "language_info": {
   "name": "python"
  },
  "orig_nbformat": 4
 },
 "nbformat": 4,
 "nbformat_minor": 2
}
