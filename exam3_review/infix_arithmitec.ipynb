{
 "cells": [
  {
   "cell_type": "markdown",
   "metadata": {},
   "source": [
    "* Given an infix arithmetic expression draw the binary expression\n",
    "  tree representation of it. Show how to get the prefix and postfix\n",
    "  expressions from that tree."
   ]
  }
 ],
 "metadata": {
  "language_info": {
   "name": "python"
  },
  "orig_nbformat": 4
 },
 "nbformat": 4,
 "nbformat_minor": 2
}
