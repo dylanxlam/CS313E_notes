{
 "cells": [
  {
   "cell_type": "markdown",
   "metadata": {},
   "source": [
    "* Given an infix arithmetic expression draw the binary expression\n",
    "  tree representation of it. Show how to get the prefix and postfix\n",
    "  expressions from that tree."
   ]
  },
  {
   "cell_type": "markdown",
   "metadata": {},
   "source": [
    "## **From Lecture**\n",
    "\n",
    "\n",
    "* Evaluate the following RPN expressions:\n",
    "4 8 7 + 2 * 3 1 - * +\n",
    "3 4 + 5 *\n",
    "3 4 5 + *\n",
    "7 4 + 3 - 2 5 * /\n",
    "\n",
    "* Some definitions for the Reverse Polish Notation \n",
    "  operator: + - * / // % **\n",
    "\n",
    "  operand: 2 (integers) or 3.4 (floating point numbers)\n",
    "\n",
    "  Infix: 2 + 3\n",
    "\n",
    "  Postfix: 2 3 +\n",
    "  \n",
    "  Prefix: + 2 3\n",
    "\n",
    "* There is an inherent ambiguity in infix expressions.\n",
    "  What does 2 + 3 * 5 mean? Is it (2 + 3) * 5 or 2 + (3 * 5)?\n",
    "\n",
    "* There is no ambiguity using either postfix or prefix notation.\n",
    "  (2 + 3) * 5 = 2 3 + 5 *\n",
    "\n",
    "  2 + (3 * 5) = 2 3 5 * +\n",
    "\n",
    "  As you can see the two expressions are different in postfix.\n",
    "\n",
    "* Given a valid RPN expression how do you evaluate it\n",
    "\n",
    "* Parse the RPN expression (go through the expression token by token)\n",
    "\n",
    "* If the token is an operand push the operand on the stack\n",
    "\n",
    "* If the token is an operator \n",
    "  - pop the stack twice\n",
    "  - apply the operator to those operands \n",
    "  - push the result on the stack\n",
    "\n",
    "* When you finish parsing there should be only one number in the stack. \n",
    "  Pop the stack. That is your answer.\n",
    "\n",
    "* Code to evaluate RPN expressions stored in a file called rpn.txt\n"
   ]
  },
  {
   "cell_type": "markdown",
   "metadata": {},
   "source": [
    "Consider the term 7x^3. To evaluate this term you would have to perform 3 multiplications [7 * x * x * x]. Now given a polynomial of the form\n",
    "\n",
    "25x^7 - 34x^5 + 67x^4 - 13x^3 - 2x + 57\n",
    "\n",
    "reduce it to an expression as given by Horner. What is the number of multiplications to evaluate Horner's version of the polynomial? There is actually a significant saving in the number of multiplications which is why we like this representation so much.\n",
    "\n",
    "  7 "
   ]
  },
  {
   "cell_type": "markdown",
   "metadata": {},
   "source": [
    "Convert the following infix expression to postfix:\n",
    "\n",
    "  ((5 * 8) % (9 / 3)) - ((6 * 7) / (2 + 4))\n",
    "  \n",
    "5 8 * 9 3 / % 6 7 * 2 4 + / - "
   ]
  },
  {
   "cell_type": "markdown",
   "metadata": {},
   "source": [
    "Convert the following postfix expression to infix:\n",
    "\n",
    "  3 1 4 2 5 7 % - * + /\n",
    "\n",
    "  3 / (1 + 4 * (2 - 5 % 7)) "
   ]
  },
  {
   "cell_type": "markdown",
   "metadata": {},
   "source": [
    "Evaluate the following prefix expression\n",
    "\n",
    "- * % 6 8 / 9  3 * 5 2\n",
    "\n",
    "  8 "
   ]
  }
 ],
 "metadata": {
  "language_info": {
   "name": "python"
  },
  "orig_nbformat": 4
 },
 "nbformat": 4,
 "nbformat_minor": 2
}
