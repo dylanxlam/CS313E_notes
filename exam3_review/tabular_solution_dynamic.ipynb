{
 "cells": [
  {
   "cell_type": "markdown",
   "metadata": {},
   "source": [
    "* Given a Dynamic Programming problem you should be able to represent\n",
    "  its solution in tabular form and in code."
   ]
  },
  {
   "cell_type": "markdown",
   "metadata": {},
   "source": [
    "Representing the solution to a dynamic programming problem in tabular form involves creating a table to store intermediate results, typically in a bottom-up manner. Below, I'll outline the general steps and provide an example using the Fibonacci sequence.\n",
    "\n",
    "### Steps to Represent Dynamic Programming Solution in Tabular Form:\n",
    "\n",
    "1. **Define the Problem:**\n",
    "   - Clearly define the problem and the objective.\n",
    "   - Identify the variables that define the state of the problem.\n",
    "\n",
    "2. **Define Table Structure:**\n",
    "   - Determine the dimensions of the table based on the problem's states.\n",
    "   - Decide whether a 1D array, 2D array, or more complex structure is needed.\n",
    "\n",
    "3. **Initialization:**\n",
    "   - Initialize the table with base cases or values that are known without computation.\n",
    "\n",
    "4. **Fill the Table:**\n",
    "   - Iterate over the table, filling in entries based on previously computed values.\n",
    "   - Follow a systematic order to ensure dependencies are satisfied.\n",
    "\n",
    "5. **Retrieve Solution:**\n",
    "   - Extract the final solution from the filled table.\n",
    "\n",
    "### Example: Fibonacci Sequence\n"
   ]
  },
  {
   "cell_type": "code",
   "execution_count": null,
   "metadata": {},
   "outputs": [],
   "source": [
    "def fibonacci(n):\n",
    "    # Create a table to store intermediate results\n",
    "    dp = [0] * (n + 1)\n",
    "\n",
    "    # Base cases\n",
    "    dp[0] = 0\n",
    "    dp[1] = 1\n",
    "\n",
    "    # Fill the table\n",
    "    for i in range(2, n + 1):\n",
    "        dp[i] = dp[i - 1] + dp[i - 2]\n",
    "\n",
    "    # Return the solution\n",
    "    return dp[n]\n",
    "\n",
    "# Example usage:\n",
    "result = fibonacci(6)\n",
    "print(result)  # Output: 8"
   ]
  },
  {
   "cell_type": "markdown",
   "metadata": {},
   "source": [
    "### Example 2: Longest Increasing Subsequence (LIS)\n",
    "\n",
    "In this example, the dp array represents the length of the longest increasing subsequence ending at each index.\n"
   ]
  },
  {
   "cell_type": "code",
   "execution_count": null,
   "metadata": {},
   "outputs": [],
   "source": [
    "def longest_increasing_subsequence(nums):\n",
    "    n = len(nums)\n",
    "    dp = [1] * n\n",
    "\n",
    "    for i in range(1, n):\n",
    "        for j in range(i):\n",
    "            if nums[i] > nums[j] and dp[i] < dp[j] + 1:\n",
    "                dp[i] = dp[j] + 1\n",
    "\n",
    "    return max(dp)\n",
    "\n",
    "# Example usage:\n",
    "sequence = [10, 22, 9, 33, 21, 50, 41, 60, 80]\n",
    "result = longest_increasing_subsequence(sequence)\n",
    "print(result)  # Output: 6\n"
   ]
  },
  {
   "cell_type": "markdown",
   "metadata": {},
   "source": [
    "### Example 2: 0/1 Knapsack Problem\n",
    "\n",
    "Here, the dp table represents the maximum value that can be obtained with a given capacity and items."
   ]
  },
  {
   "cell_type": "code",
   "execution_count": null,
   "metadata": {},
   "outputs": [],
   "source": [
    "def knapsack(weights, values, capacity):\n",
    "    n = len(weights)\n",
    "    dp = [[0] * (capacity + 1) for _ in range(n + 1)]\n",
    "\n",
    "    for i in range(1, n + 1):\n",
    "        for w in range(1, capacity + 1):\n",
    "            if weights[i - 1] <= w:\n",
    "                dp[i][w] = max(values[i - 1] + dp[i - 1][w - weights[i - 1]], dp[i - 1][w])\n",
    "            else:\n",
    "                dp[i][w] = dp[i - 1][w]\n",
    "\n",
    "    return dp[n][capacity]\n",
    "\n",
    "# Example usage:\n",
    "weights = [2, 3, 4, 5]\n",
    "values = [3, 4, 5, 6]\n",
    "knapsack_capacity = 5\n",
    "result = knapsack(weights, values, knapsack_capacity)\n",
    "print(result)  # Output: 8\n"
   ]
  }
 ],
 "metadata": {
  "language_info": {
   "name": "python"
  },
  "orig_nbformat": 4
 },
 "nbformat": 4,
 "nbformat_minor": 2
}
