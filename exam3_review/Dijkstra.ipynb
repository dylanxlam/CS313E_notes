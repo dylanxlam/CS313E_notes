{
 "cells": [
  {
   "cell_type": "markdown",
   "metadata": {},
   "source": [
    "You will have to solve Dijkstra's shortest path algorithm for\n",
    "    a given graph in tabular form. You will not be asked to code\n",
    "    Dijkstra's algorithm."
   ]
  },
  {
   "cell_type": "markdown",
   "metadata": {},
   "source": [
    "* **Dijkstra's Single Source Shortest Path Algorithm**\n",
    "  - Choose a starting vertex.\n",
    "  - Create a table with all the other vertices in the graph.\n",
    "  - From the starting vertex fill the table with the cost of\n",
    "    visiting all the other vertices.\n",
    "  - Go to the vertex with the lowest cost and update the cost\n",
    "    of visiting all the other vertices from the starting vertex.\n",
    "  - Go to all the other vertices in order of increasing cost and\n",
    "    update the costs of visiting the other vertices from the \n",
    "    starting vertex.\n",
    "  - When you have visited all the vertices that you can visit \n",
    "    from the starting vertex then you are done.\n",
    "\n",
    "* **Worked out example using Dijkstra's Algorithm**\n",
    "  - https://www.cs.utexas.edu/users/mitra/csFall2023/cs313/notes/Dijkstra.pdf"
   ]
  },
  {
   "cell_type": "markdown",
   "metadata": {},
   "source": [
    "It took 18 time units to complete Dijkstra's single-source shortest path algorithm to an undirected connected graph that had 9 vertices. How many time units will it take to complete this same algorithm on an undirected connected graph having 12 vertices? Think of the efficiency of this algorithm.\n",
    "\n",
    "32"
   ]
  }
 ],
 "metadata": {
  "language_info": {
   "name": "python"
  },
  "orig_nbformat": 4
 },
 "nbformat": 4,
 "nbformat_minor": 2
}
