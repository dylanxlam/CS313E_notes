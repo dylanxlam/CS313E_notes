{
 "cells": [
  {
   "cell_type": "markdown",
   "metadata": {},
   "source": [
    "You will have to solve Dijkstra's shortest path algorithm for\n",
    "    a given graph in tabular form. You will not be asked to code\n",
    "    Dijkstra's algorithm."
   ]
  },
  {
   "cell_type": "markdown",
   "metadata": {},
   "source": [
    "* **Dijkstra's Single Source Shortest Path Algorithm**\n",
    "  - Choose a starting vertex.\n",
    "  - Create a table with all the other vertices in the graph.\n",
    "  - From the starting vertex fill the table with the cost of\n",
    "    visiting all the other vertices.\n",
    "  - Go to the vertex with the lowest cost and update the cost\n",
    "    of visiting all the other vertices from the starting vertex.\n",
    "  - Go to all the other vertices in order of increasing cost and\n",
    "    update the costs of visiting the other vertices from the \n",
    "    starting vertex.\n",
    "  - When you have visited all the vertices that you can visit \n",
    "    from the starting vertex then you are done.\n",
    "\n",
    "* **Worked out example using Dijkstra's Algorithm**\n",
    "  - https://www.cs.utexas.edu/users/mitra/csFall2023/cs313/notes/Dijkstra.pdf"
   ]
  },
  {
   "cell_type": "markdown",
   "metadata": {},
   "source": [
    "It took 18 time units to complete Dijkstra's single-source shortest path algorithm to an undirected connected graph that had 9 vertices. How many time units will it take to complete this same algorithm on an undirected connected graph having 12 vertices? Think of the efficiency of this algorithm.\n",
    "\n",
    "32"
   ]
  },
  {
   "cell_type": "markdown",
   "metadata": {},
   "source": [
    "### **Dijkstra's shortest path algorithm**\n",
    "Finding the shortest path between vertices in a graph has many applications. Ex: Finding the shortest driving route between two intersections can be solved by finding the shortest path in a directed graph where vertices are intersections and edge weights are distances. If edge weights instead are expected travel times (possibly based on real-time traffic data), finding the shortest path will provide the fastest driving route.\n",
    "\n",
    "#### **Dijkstra's shortest path algorithm** \n",
    "Created by Edsger Dijkstra, determines the shortest path from a start vertex to each vertex in a graph. For each vertex, Dijkstra's algorithm determines the vertex's distance and predecessor pointer. A vertex's distance is the shortest path distance from the start vertex. A vertex's predecessor pointer points to the previous vertex along the shortest path from the start vertex.\n",
    "\n",
    "Dijkstra's algorithm initializes all vertices' distances to infinity (∞), initializes all vertices' predecessors to null, and enqueues all vertices into a queue of unvisited vertices. The algorithm then assigns the start vertex's distance with 0. While the queue is not empty, the algorithm dequeues the vertex with the shortest distance. For each adjacent vertex, the algorithm computes the distance of the path from the start vertex to the current vertex and continuing on to the adjacent vertex. If that path's distance is shorter than the adjacent vertex's current distance, a shorter path has been found. The adjacent vertex's current distance is updated to the distance of the newly found shorter path's distance, and vertex's predecessor pointer is pointed to the current vertex."
   ]
  },
  {
   "cell_type": "markdown",
   "metadata": {},
   "source": [
    "\n",
    "DijkstraShortestPath(startV) {\n",
    "   for each vertex currentV in graph {\n",
    "      currentV⇢distance = Infinity\n",
    "      currentV⇢predV = 0\n",
    "      Enqueue currentV in unvisitedQueue\n",
    "   }\n",
    "\n",
    "   // startV has a distance of 0 from itself\n",
    "   startV⇢distance = 0\n",
    "\n",
    "   while (unvisitedQueue is not empty) {\n",
    "      // Visit vertex with minimum distance from startV\n",
    "      currentV = DequeueMin unvisitedQueue\n",
    "\n",
    "      for each vertex adjV adjacent to currentV {\n",
    "         edgeWeight = weight of edge from currentV to adjV\n",
    "         alternativePathDistance = currentV⇢distance + edgeWeight\n",
    "            \n",
    "         // If shorter path from startV to adjV is found,\n",
    "         // update adjV's distance and predecessor\n",
    "         if (alternativePathDistance < adjV⇢distance) {\n",
    "            adjV⇢distance = alternativePathDistance\n",
    "            adjV⇢predV = currentV\n",
    "         }\n",
    "      }\n",
    "   }\n",
    "}\n",
    "1. Each vertex is initialized with distance set to Infinity and the predecessor pointer set to null. Each vertex is enqueued into unvisitedQueue.\n",
    "2. The start vertex's distance is 0. The algorithm visits the start vertex first.\n",
    "3. For each adjacent vertex, if a shorter path from the start vertex to the adjacent vertex is found, the vertex's distance and predecessor pointer are updated.\n",
    "4. B has the shortest path distance, and is dequeued from the queue. The path through B to C is not shorter, so no update occurs. The path through B to D is shorter, so D's distance and predecessor are updated.\n",
    "5. D is then dequeued. The path through D to C is shorter, so C's distance and predecessor pointer are updated.\n",
    "6. C is then dequeued. The path through C to D is not shorter, so no update occurs.\n",
    "7. The algorithm terminates when all vertices are visited. Each vertex's distance is the shortest path distance from the start vertex. The vertex's predecessor pointer points to the previous vertex in the shortest path."
   ]
  }
 ],
 "metadata": {
  "language_info": {
   "name": "python"
  },
  "orig_nbformat": 4
 },
 "nbformat": 4,
 "nbformat_minor": 2
}
