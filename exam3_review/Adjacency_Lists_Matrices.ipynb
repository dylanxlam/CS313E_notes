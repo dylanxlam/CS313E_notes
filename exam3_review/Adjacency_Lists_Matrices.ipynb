{
 "cells": [
  {
   "cell_type": "markdown",
   "metadata": {},
   "source": [
    "* You must be able to obtain the adjacency matrix for a given graph.\n",
    "  Or given the adjacency matrix build the graph. You should be able\n",
    "  to build a graph using adjacency lists or add an Edge class to your\n",
    "  graph representation. You should be able add functions to the \n",
    "  Graph class."
   ]
  },
  {
   "cell_type": "markdown",
   "metadata": {},
   "source": [
    "**1. Obtain the Adjacency Matrix for a Given Graph**\n",
    "\n",
    "To obtain the adjacency matrix for a given graph, you need to represent the graph as an adjacency list and then convert it to an adjacency matrix."
   ]
  },
  {
   "cell_type": "code",
   "execution_count": null,
   "metadata": {},
   "outputs": [],
   "source": [
    "class Graph:\n",
    "    def __init__(self, vertices):\n",
    "        self.vertices = vertices\n",
    "        self.adjacency_list = {vertex: [] for vertex in range(vertices)}\n",
    "\n",
    "    def add_edge(self, vertex1, vertex2):\n",
    "        self.adjacency_list[vertex1].append(vertex2)\n",
    "        self.adjacency_list[vertex2].append(vertex1)\n",
    "\n",
    "    def adjacency_matrix(self):\n",
    "        matrix = [[0] * self.vertices for _ in range(self.vertices)]\n",
    "\n",
    "        for vertex, neighbors in self.adjacency_list.items():\n",
    "            for neighbor in neighbors:\n",
    "                matrix[vertex][neighbor] = 1\n",
    "\n",
    "        return matrix\n",
    "\n",
    "# Example\n",
    "graph = Graph(5)\n",
    "graph.add_edge(0, 1)\n",
    "graph.add_edge(0, 2)\n",
    "graph.add_edge(1, 3)\n",
    "graph.add_edge(3, 4)\n",
    "\n",
    "adj_matrix = graph.adjacency_matrix()\n",
    "print(adj_matrix)\n"
   ]
  },
  {
   "cell_type": "markdown",
   "metadata": {},
   "source": [
    "**2. Build a Graph from an Adjacency Matrix**\n",
    "\n",
    "To build a graph from an adjacency matrix, you iterate through the matrix and add edges based on non-zero entries."
   ]
  },
  {
   "cell_type": "code",
   "execution_count": null,
   "metadata": {},
   "outputs": [],
   "source": [
    "class Graph:\n",
    "    def __init__(self, adjacency_matrix):\n",
    "        self.vertices = len(adjacency_matrix)\n",
    "        self.adjacency_list = {vertex: [] for vertex in range(self.vertices)}\n",
    "\n",
    "        for i in range(self.vertices):\n",
    "            for j in range(self.vertices):\n",
    "                if adjacency_matrix[i][j] == 1:\n",
    "                    self.add_edge(i, j)\n",
    "\n",
    "    def add_edge(self, vertex1, vertex2):\n",
    "        self.adjacency_list[vertex1].append(vertex2)\n",
    "        self.adjacency_list[vertex2].append(vertex1)\n",
    "\n",
    "# Example\n",
    "adj_matrix = [\n",
    "    [0, 1, 1, 0, 0],\n",
    "    [1, 0, 1, 1, 0],\n",
    "    [1, 1, 0, 0, 0],\n",
    "    [0, 1, 0, 0, 1],\n",
    "    [0, 0, 0, 1, 0]\n",
    "]\n",
    "\n",
    "graph = Graph(adj_matrix)\n",
    "print(graph.adjacency_list)\n"
   ]
  },
  {
   "cell_type": "markdown",
   "metadata": {},
   "source": [
    "**3. Build a Graph Using Adjacency Lists**\n",
    "\n",
    "You can directly build a graph using adjacency lists by adding edges."
   ]
  },
  {
   "cell_type": "code",
   "execution_count": null,
   "metadata": {},
   "outputs": [],
   "source": [
    "class Graph:\n",
    "    def __init__(self, vertices):\n",
    "        self.vertices = vertices\n",
    "        self.adjacency_list = {vertex: [] for vertex in range(vertices)}\n",
    "\n",
    "    def add_edge(self, vertex1, vertex2):\n",
    "        self.adjacency_list[vertex1].append(vertex2)\n",
    "        self.adjacency_list[vertex2].append(vertex1)\n",
    "\n",
    "# Example\n",
    "graph = Graph(4)\n",
    "graph.add_edge(0, 1)\n",
    "graph.add_edge(0, 2)\n",
    "graph.add_edge(1, 3)\n",
    "\n",
    "print(graph.adjacency_list)\n"
   ]
  },
  {
   "cell_type": "markdown",
   "metadata": {},
   "source": [
    "**4. Add an Edge Class to Your Graph Representation**\n",
    "\n",
    "To add an Edge class, you can modify the Graph class to store edges explicitly."
   ]
  },
  {
   "cell_type": "code",
   "execution_count": null,
   "metadata": {},
   "outputs": [],
   "source": [
    "class Edge:\n",
    "    def __init__(self, vertex1, vertex2):\n",
    "        self.vertex1 = vertex1\n",
    "        self.vertex2 = vertex2\n",
    "\n",
    "class Graph:\n",
    "    def __init__(self, vertices):\n",
    "        self.vertices = vertices\n",
    "        self.adjacency_list = {vertex: [] for vertex in range(vertices)}\n",
    "        self.edges = []\n",
    "\n",
    "    def add_edge(self, vertex1, vertex2):\n",
    "        self.adjacency_list[vertex1].append(vertex2)\n",
    "        self.adjacency_list[vertex2].append(vertex1)\n",
    "        self.edges.append(Edge(vertex1, vertex2))\n",
    "\n",
    "# Example\n",
    "graph = Graph(4)\n",
    "graph.add_edge(0, 1)\n",
    "graph.add_edge(0, 2)\n",
    "graph.add_edge(1, 3)\n",
    "\n",
    "print(graph.edges)\n"
   ]
  },
  {
   "cell_type": "markdown",
   "metadata": {},
   "source": [
    "**5. Add Functions to the Graph Class**\n",
    "\n",
    "You can add various functions to the Graph class based on your requirements, such as BFS, DFS, etc."
   ]
  },
  {
   "cell_type": "code",
   "execution_count": null,
   "metadata": {},
   "outputs": [],
   "source": [
    "class Graph:\n",
    "    # ... (previous code)\n",
    "\n",
    "    def breadth_first_search(self, start_vertex):\n",
    "        visited = [False] * self.vertices\n",
    "        queue = [start_vertex]\n",
    "        visited[start_vertex] = True\n",
    "\n",
    "        while queue:\n",
    "            current_vertex = queue.pop(0)\n",
    "            print(current_vertex, end=\" \")\n",
    "\n",
    "            for neighbor in self.adjacency_list[current_vertex]:\n",
    "                if not visited[neighbor]:\n",
    "                    queue.append(neighbor)\n",
    "                    visited[neighbor] = True\n",
    "\n",
    "# Example\n",
    "graph = Graph(4)\n",
    "graph.add_edge(0, 1)\n",
    "graph.add_edge(0, 2)\n",
    "graph.add_edge(1, 3)\n",
    "\n",
    "graph.breadth_first_search(0)\n"
   ]
  },
  {
   "cell_type": "markdown",
   "metadata": {},
   "source": [
    "#### **Adjacency matrices**\n",
    "\n",
    "Various approaches exist for representing a graph data structure. One approach is an adjacency matrix. Recall that two vertices are adjacent if connected by an edge. In an adjacency matrix graph representation, each vertex is assigned to a matrix row and column, and a matrix element is 1 if the corresponding two vertices have an edge or is 0 otherwise."
   ]
  },
  {
   "cell_type": "markdown",
   "metadata": {},
   "source": [
    "#### **Analysis of adjacency matrices** \n",
    "Assuming the common implementation as a two-dimensional array whose elements are accessible in O(1), then an adjacency matrix's key benefit is O(1) determination of whether two vertices are adjacent: The corresponding element is just checked for 0 or 1.\n",
    "\n",
    "A key drawback is O(V\n",
    ") size. Ex: A graph with 1000 vertices would require a 1000 x 1000 matrix, meaning 1,000,000 elements. An adjacency matrix's large size is inefficient for a sparse graph, in which most elements would be 0's.\n",
    "\n",
    "An adjacency matrix only represents edges among vertices; if each vertex has data, like a person's name and address, then a separate list of vertices is needed."
   ]
  },
  {
   "cell_type": "markdown",
   "metadata": {},
   "source": [
    "The following adjacency matrix represents the map of a city's electrical power grid. Ex: Sector A's power grid is connected to Sector B's power grid.\n",
    "\n",
    "Adjacency matrix with columns A, B, C, D, E and rows A, B, C, D, E. Row A contains: 0, 1, 1, 1, 0. Row B contains 1, 0, 1, 1, 1. Row C contains 1, 1, 0, 1, 1. Row D contains 1, 1, 1, 0, 0. Row E contains 0, 1, 1, 0, 0."
   ]
  },
  {
   "cell_type": "markdown",
   "metadata": {},
   "source": [
    "D: 3 edges\n",
    "\n",
    "Edges of full graph: 8\n",
    "\n",
    "Assume Sector D has a power failure. Can power from Sector A be diverted directly to Sector D? Yes\n",
    "\n",
    "Assume Sector E has a power failure. Can power from Sector A be diverted directly to Sector E? No\n",
    "\n",
    "Is the following a path from Sector A to E? Type: Yes or No\n",
    "AD, DB, BE Yes"
   ]
  },
  {
   "cell_type": "markdown",
   "metadata": {},
   "source": [
    "#### **Adjacency lists**\n",
    "Various approaches exist for representing a graph data structure. A common approach is an adjacency list. Recall that two vertices are adjacent if connected by an edge. In an adjacency list graph representation, each vertex has a list of adjacent vertices, each list item representing an edge."
   ]
  },
  {
   "cell_type": "markdown",
   "metadata": {},
   "source": [
    "#### **Advantages of adjacency lists**\n",
    "A key advantage of an adjacency list graph representation is a size of O(V + E), because each vertex appears once, and each edge appears twice. V refers to the number of vertices, E the number of edges.\n",
    "\n",
    "However, a disadvantage is that determining whether two vertices are adjacent is O(V), because one vertex's adjacency list must be traversed looking for the other vertex, and that list could have V items. However, in most applications, a vertex is only adjacent to a small fraction of the other vertices, yielding a sparse graph. A sparse graph has far fewer edges than the maximum possible. Many graphs are sparse, like those representing a computer network, flights between cities, or friendships among people (every person isn't friends with every other person). Thus, the adjacency list graph representation is very common."
   ]
  }
 ],
 "metadata": {
  "language_info": {
   "name": "python"
  },
  "orig_nbformat": 4
 },
 "nbformat": 4,
 "nbformat_minor": 2
}
