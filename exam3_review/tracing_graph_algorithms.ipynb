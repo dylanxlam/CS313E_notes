{
 "cells": [
  {
   "cell_type": "markdown",
   "metadata": {},
   "source": [
    "* You must be familiar and be able the trace the following graph\n",
    "  algorithms - Depth First Search (DFS), Breadth First Search (BFS),\n",
    "  Topological Sort, Minimum Cost Spanning Tree using Kruskal's and\n",
    "  Prim's algorithm, and Dijkstra's Single Source Shortest Path \n",
    "  algorithm. Determine if there is an Eulerian path (cycle) in a \n",
    "  graph and trace that Eulerian path (cycle). Trace (not code) the\n",
    "  Hamiltonian path (cycle) in a graph. "
   ]
  }
 ],
 "metadata": {
  "language_info": {
   "name": "python"
  },
  "orig_nbformat": 4
 },
 "nbformat": 4,
 "nbformat_minor": 2
}
