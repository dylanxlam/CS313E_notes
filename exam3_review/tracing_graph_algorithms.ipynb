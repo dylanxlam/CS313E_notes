{
 "cells": [
  {
   "cell_type": "markdown",
   "metadata": {},
   "source": [
    "* You must be familiar and be able the trace the following graph\n",
    "  algorithms - Depth First Search (DFS), Breadth First Search (BFS),\n",
    "  Topological Sort, Minimum Cost Spanning Tree using Kruskal's and\n",
    "  Prim's algorithm, and Dijkstra's Single Source Shortest Path \n",
    "  algorithm. Determine if there is an Eulerian path (cycle) in a \n",
    "  graph and trace that Eulerian path (cycle). Trace (not code) the\n",
    "  Hamiltonian path (cycle) in a graph. "
   ]
  },
  {
   "cell_type": "markdown",
   "metadata": {},
   "source": [
    "## Breadth and Depth First Searches\n",
    "\n",
    "* Two more traversals - depth first search (dfs) and\n",
    "                        breadth first search (bfs)\n",
    "\n",
    "* The algorithms for the two searchs are given below:\n",
    "\n",
    "Depth First Search (DFS)\n",
    "\n",
    "1. Create a Stack\n",
    "2. Add the root to the Stack\n",
    "3. If the Stack is not empty pop the\n",
    "   node from the Stack and make it the\n",
    "   current node.\n",
    "4. If the current node is not None \n",
    "   print the data and add the right child\n",
    "   and then the left child of the current\n",
    "   node to the Stack.\n",
    "5. Repeat steps 3 and 4 until the Stack\n",
    "   is empty.\n",
    "\n",
    "Breadth First Search (BFS)\n",
    "\n",
    "1. Create a Queue\n",
    "2. Add the root to the Queue\n",
    "3. If the Queue is not empty remove a node\n",
    "   from the Queue and make it the current\n",
    "   node.\n",
    "4. If the current node is not None print \n",
    "   the data and add the left child and then\n",
    "   the right child of the current node to the\n",
    "   Queue.\n",
    "5. Repeat steps 3 and 4 until Queue is empty."
   ]
  }
 ],
 "metadata": {
  "language_info": {
   "name": "python"
  },
  "orig_nbformat": 4
 },
 "nbformat": 4,
 "nbformat_minor": 2
}
