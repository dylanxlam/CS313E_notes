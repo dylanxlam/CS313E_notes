{
 "cells": [
  {
   "cell_type": "code",
   "execution_count": null,
   "metadata": {},
   "outputs": [],
   "source": [
    "# File: Triangle.py\n",
    "\n",
    "# Description: Program to find the greatest path sum in a triangular grid using different approaches.\n",
    "\n",
    "import sys\n",
    "from timeit import timeit"
   ]
  },
  {
   "cell_type": "markdown",
   "metadata": {},
   "source": [
    "### **Brute Force**"
   ]
  },
  {
   "cell_type": "code",
   "execution_count": null,
   "metadata": {},
   "outputs": [],
   "source": [
    "\n",
    "# returns the greatest path sum using exhaustive search\n",
    "def brute_force(grid):\n",
    "    def find_max_path(row, col):\n",
    "        if row == len(grid) - 1:\n",
    "            return grid[row][col]\n",
    "        left = find_max_path(row + 1, col)\n",
    "        right = find_max_path(row + 1, col + 1)\n",
    "        return grid[row][col] + max(left, right)\n",
    "    \n",
    "    return find_max_path(0, 0) #  Initial call to find_max_path function\n",
    "\n",
    " #  For the cell in the first row, the algorithm calculates \n",
    "    #  the maximum path sum for the paths that originate from \n",
    "    #  that cell and move downward. It selects the path that offers the maximum sum.\n",
    "#  This process is repeated for the second row, and then for subsequent rows, \n",
    "    #  with the algorithm exploring all possible paths from each cell. "
   ]
  },
  {
   "cell_type": "markdown",
   "metadata": {},
   "source": [
    "### Brute Force Algorithms:\n",
    "- **Definition:** Brute force is a straightforward approach to solving a problem by checking all possible solutions and picking the best one.\n",
    "- **Methodology:**\n",
    "  - Enumerate all possible solutions.\n",
    "  - Evaluate each solution.\n",
    "  - Choose the best one based on a defined criterion.\n",
    "\n",
    "- **Pros:**\n",
    "  - Simple to implement.\n",
    "  - Guaranteed to find the optimal solution.\n",
    "  \n",
    "- **Cons:**\n",
    "  - Can be inefficient for large problem instances.\n",
    "  - Not suitable for problems with a vast solution space."
   ]
  },
  {
   "cell_type": "markdown",
   "metadata": {},
   "source": [
    "### **Greedy**"
   ]
  },
  {
   "cell_type": "code",
   "execution_count": null,
   "metadata": {},
   "outputs": [],
   "source": [
    "# returns the greatest path sum using greedy approach (can lead to incorrect answers)\n",
    "def greedy(grid):\n",
    "    '''\n",
    "    The greedy approach makes choices that seem best at each step \n",
    "    without considering the full picture of the grid. \n",
    "    '''\n",
    "    max_sum = grid[0][0]  # Initialize the maximum sum to the value at the top-left corner.\n",
    "    current_col = 0  # Initialize the current column to 0 (starting from the left).\n",
    "\n",
    "    for row in range(1, len(grid)):\n",
    "        # Compare the values in the current column and the next column.\n",
    "        if grid[row][current_col] > grid[row][current_col + 1]:\n",
    "            # If the value in the current column is greater, choose to move down in the current column.\n",
    "            max_sum += grid[row][current_col]\n",
    "        else:\n",
    "            # If the value in the next column is greater, choose to move down and to the right.\n",
    "            max_sum += grid[row][current_col + 1]\n",
    "            current_col += 1  # Update the current column to move to the right.\n",
    "\n",
    "    return max_sum  # Return the maximum sum found using the greedy approach.\n"
   ]
  },
  {
   "cell_type": "markdown",
   "metadata": {},
   "source": [
    "\n",
    "\n",
    "### Greedy Algorithms:\n",
    "- **Definition:** Greedy algorithms make locally optimal choices at each stage with the hope of finding a global optimum.\n",
    "- **Methodology:**\n",
    "  - Make the best available choice at each step without considering the entire problem.\n",
    "  - Proceed iteratively until a solution is found.\n",
    "\n",
    "- **Pros:**\n",
    "  - Often simple and easy to implement.\n",
    "  - Efficient for certain types of problems.\n",
    "\n",
    "- **Cons:**\n",
    "  - May not always lead to a globally optimal solution.\n",
    "  - Lack of backtracking may lead to suboptimal solutions."
   ]
  },
  {
   "cell_type": "markdown",
   "metadata": {},
   "source": [
    "### **Divide and Conquer**"
   ]
  },
  {
   "cell_type": "code",
   "execution_count": null,
   "metadata": {},
   "outputs": [],
   "source": [
    "# returns the greatest path sum using divide and conquer (recursive) approach\n",
    "def divide_conquer(grid):\n",
    "    def find_max_path(row, col):\n",
    "        if row == len(grid) - 1:\n",
    "            return grid[row][col]\n",
    "        left = find_max_path(row + 1, col)\n",
    "        right = find_max_path(row + 1, col + 1)\n",
    "        return grid[row][col] + max(left, right)\n",
    "    \n",
    "    return find_max_path(0, 0)"
   ]
  },
  {
   "cell_type": "markdown",
   "metadata": {},
   "source": [
    "\n",
    "### Divide and Conquer Algorithms:\n",
    "- **Definition:** Divide and conquer involves breaking a problem into smaller sub-problems, solving them recursively, and combining the solutions to solve the original problem.\n",
    "- **Methodology:**\n",
    "  - Divide the problem into smaller sub-problems.\n",
    "  - Solve each sub-problem independently.\n",
    "  - Combine the solutions of the sub-problems to obtain the solution to the original problem.\n",
    "\n",
    "- **Pros:**\n",
    "  - Can lead to efficient algorithms for specific problem types.\n",
    "  - Parallelization is often possible.\n",
    "\n",
    "- **Cons:**\n",
    "  - Overhead of dividing and combining may make it less efficient for small problems.\n"
   ]
  },
  {
   "cell_type": "markdown",
   "metadata": {},
   "source": [
    "### **Dynamic Programming**"
   ]
  },
  {
   "cell_type": "code",
   "execution_count": null,
   "metadata": {},
   "outputs": [],
   "source": [
    "# returns the greatest path sum and the new grid using dynamic programming\n",
    "def dynamic_prog(grid):\n",
    "    n = grid[:]\n",
    "    max_columns = len(n) - 1\n",
    "\n",
    "    # Start from the second-to-last row and work upwards\n",
    "    for row in range(len(n) -1, 0, -1):\n",
    "        for col in range(max_columns):\n",
    "            maximum = max(n[row][col], n[row][col + 1])\n",
    "            n[row - 1][col] += maximum\n",
    "        max_columns -= 1\n",
    "\n",
    "    return n[0][0]"
   ]
  },
  {
   "cell_type": "markdown",
   "metadata": {},
   "source": [
    "\n",
    "\n",
    "### Dynamic Programming:\n",
    "- **Definition:** Dynamic programming is an optimization technique that involves breaking down a problem into smaller overlapping sub-problems and solving each sub-problem only once, storing the solutions to sub-problems to avoid redundant computations.\n",
    "- **Methodology:**\n",
    "  - Solve the problem in a bottom-up fashion by solving simpler sub-problems first.\n",
    "  - Store solutions to sub-problems in a table for future reference.\n",
    "  - Avoid redundant computations by using memoization.\n",
    "\n",
    "- **Pros:**\n",
    "  - Efficient for problems with overlapping sub-problems.\n",
    "  - Often provides optimal solutions.\n",
    "\n",
    "- **Cons:**\n",
    "  - May require additional memory to store solutions to sub-problems."
   ]
  },
  {
   "cell_type": "code",
   "execution_count": null,
   "metadata": {},
   "outputs": [],
   "source": [
    "# reads the file and returns a 2-D list that represents the triangle\n",
    "def read_file ():\n",
    "  # read number of lines\n",
    "  line = sys.stdin.readline()\n",
    "  line = line.strip()\n",
    "  n = int (line)\n",
    "\n",
    "  # create an empty grid with 0's\n",
    "  grid = [[0 for i in range (n)] for j in range (n)]\n",
    "\n",
    "  # read each line in the input file and add to the grid\n",
    "  for i in range (n):\n",
    "    line = sys.stdin.readline()\n",
    "    line = line.strip()\n",
    "    row = line.split()\n",
    "    row = list (map (int, row))\n",
    "    for j in range (len(row)):\n",
    "      grid[i][j] = grid[i][j] + row[j]\n",
    "  return grid \n",
    "\n",
    "\n",
    "def main():\n",
    "    # Read triangular grid from file\n",
    "    grid = read_file()\n",
    "  \n",
    "    # Output greatest path from exhaustive search\n",
    "    result = brute_force(grid)\n",
    "    print(\"The greatest path sum through exhaustive search is\", result)\n",
    "    times = timeit('brute_force({})'.format(grid), 'from __main__ import brute_force', number=10)\n",
    "    times = times / 10\n",
    "    print(\"The time taken for exhaustive search in seconds is\", times)\n",
    "\n",
    "    # Output greatest path from greedy approach\n",
    "    result = greedy(grid)\n",
    "    print(\"The greatest path sum through greedy search is\", result)\n",
    "    times = timeit('greedy({})'.format(grid), 'from __main__ import greedy', number=10)\n",
    "    times = times / 10\n",
    "    print(\"The time taken for greedy approach in seconds is\", times)\n",
    "\n",
    "    # Output greatest path from divide-and-conquer approach\n",
    "    result = divide_conquer(grid)\n",
    "    print(\"The greatest path sum through recursive search is\", result)\n",
    "    times = timeit('divide_conquer({})'.format(grid), 'from __main__ import divide_conquer', number=10)\n",
    "    times = times / 10\n",
    "    print(\"The time taken for recursive search in seconds is\", times)\n",
    "\n",
    "    # Output greatest path from dynamic programming \n",
    "    result = dynamic_prog(grid)\n",
    "    print(\"The greatest path sum through dynamic programming is\", result)\n",
    "    times = timeit('dynamic_prog({})'.format(grid), 'from __main__ import dynamic_prog', number=10)\n",
    "    times = times / 10\n",
    "    print(\"The time taken for dynamic programming in seconds is\", times)\n",
    "\n",
    "    \n",
    "\n",
    "if __name__ == \"__main__\":\n",
    "    main()"
   ]
  },
  {
   "cell_type": "markdown",
   "metadata": {},
   "source": [
    "\n",
    "### Summary:\n",
    "- **Brute Force:** Simple, guarantees optimality, but can be inefficient.\n",
    "- **Greedy:** Makes locally optimal choices, simple but may not be globally optimal.\n",
    "- **Divide and Conquer:** Breaks problems into sub-problems and solves them recursively, often efficient for specific problem types.\n",
    "- **Dynamic Programming:** Solves problems by breaking them into overlapping sub-problems, efficient for problems with optimal substructure.\n",
    "\n",
    "These algorithmic paradigms are tools in the algorithm designer's toolbox, and the choice of which to use depends on the nature of the problem at hand."
   ]
  }
 ],
 "metadata": {
  "language_info": {
   "name": "python"
  },
  "orig_nbformat": 4
 },
 "nbformat": 4,
 "nbformat_minor": 2
}
