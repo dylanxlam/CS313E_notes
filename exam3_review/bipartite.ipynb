{
 "cells": [
  {
   "cell_type": "markdown",
   "metadata": {},
   "source": [
    "* Determine if a graph is bipartite. Determine if two graphs are\n",
    "  isomorphic and if they are give the mapping of the vertices from\n",
    "  one graph to the other."
   ]
  },
  {
   "cell_type": "markdown",
   "metadata": {},
   "source": [
    "A bipartite graph has two disjoint sets of vertices A and B. A has m elements and B has n elements. What is the maximum number of edges in this bipartite graph?\n",
    "\n",
    "Correct!\n",
    "  m * n "
   ]
  }
 ],
 "metadata": {
  "language_info": {
   "name": "python"
  },
  "orig_nbformat": 4
 },
 "nbformat": 4,
 "nbformat_minor": 2
}
