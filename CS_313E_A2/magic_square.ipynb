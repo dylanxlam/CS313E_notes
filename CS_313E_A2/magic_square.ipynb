{
 "cells": [
  {
   "cell_type": "markdown",
   "metadata": {},
   "source": [
    "**Magic Square ( Due 11 Sep 2023 )**\n",
    "\n"
   ]
  },
  {
   "cell_type": "code",
   "execution_count": 1,
   "metadata": {},
   "outputs": [
    {
     "ename": "ValueError",
     "evalue": "invalid literal for int() with base 10: ''",
     "output_type": "error",
     "traceback": [
      "\u001b[0;31m---------------------------------------------------------------------------\u001b[0m",
      "\u001b[0;31mValueError\u001b[0m                                Traceback (most recent call last)",
      "Cell \u001b[0;32mIn[1], line 81\u001b[0m\n\u001b[1;32m     78\u001b[0m         \u001b[39mprint\u001b[39m(adjacent_sum)\n\u001b[1;32m     80\u001b[0m \u001b[39mif\u001b[39;00m \u001b[39m__name__\u001b[39m \u001b[39m==\u001b[39m \u001b[39m\"\u001b[39m\u001b[39m__main__\u001b[39m\u001b[39m\"\u001b[39m:\n\u001b[0;32m---> 81\u001b[0m     main()\n",
      "Cell \u001b[0;32mIn[1], line 70\u001b[0m, in \u001b[0;36mmain\u001b[0;34m()\u001b[0m\n\u001b[1;32m     69\u001b[0m \u001b[39mdef\u001b[39;00m \u001b[39mmain\u001b[39m():\n\u001b[0;32m---> 70\u001b[0m     n \u001b[39m=\u001b[39m \u001b[39mint\u001b[39;49m(\u001b[39minput\u001b[39;49m())\n\u001b[1;32m     71\u001b[0m     numbers \u001b[39m=\u001b[39m [\u001b[39mint\u001b[39m(line\u001b[39m.\u001b[39mstrip()) \u001b[39mfor\u001b[39;00m line \u001b[39min\u001b[39;00m sys\u001b[39m.\u001b[39mstdin]\n\u001b[1;32m     73\u001b[0m     magic_square \u001b[39m=\u001b[39m make_square(n)\n",
      "\u001b[0;31mValueError\u001b[0m: invalid literal for int() with base 10: ''"
     ]
    }
   ],
   "source": [
    "import sys\n",
    "\n",
    "# Populate a 2-D list with numbers from 1 to n2\n",
    "def make_square(n):\n",
    "    square = [[0] * n for _ in range(n)]\n",
    "    i, j = n - 1, n // 2\n",
    "    num = 1\n",
    "\n",
    "    while num <= n ** 2:\n",
    "        square[i][j] = num\n",
    "        num += 1\n",
    "        new_i, new_j = (i + 1) % n, (j + 1) % n\n",
    "\n",
    "        if square[new_i][new_j] == 0:\n",
    "            i, j = new_i, new_j\n",
    "        else:\n",
    "            i = (i - 1) % n\n",
    "\n",
    "    return square\n",
    "\n",
    "# Print the magic square\n",
    "def print_square(magic_square):\n",
    "    for row in magic_square:\n",
    "        print(\" \".join(map(str, row)))\n",
    "\n",
    "# Check if the generated square is a magic square\n",
    "def check_square(magic_square):\n",
    "    n = len(magic_square)\n",
    "    expected_sum = n * (n ** 2 + 1) // 2\n",
    "\n",
    "    # Check rows and columns\n",
    "    for i in range(n):\n",
    "        if sum(magic_square[i]) != expected_sum:\n",
    "            return False\n",
    "        if sum(magic_square[j][i] for j in range(n)) != expected_sum:\n",
    "            return False\n",
    "\n",
    "    # Check main diagonal\n",
    "    if sum(magic_square[i][i] for i in range(n)) != expected_sum:\n",
    "        return False\n",
    "\n",
    "    # Check other diagonal\n",
    "    if sum(magic_square[i][n - 1 - i] for i in range(n)) != expected_sum:\n",
    "        return False\n",
    "\n",
    "    return True\n",
    "\n",
    "# Calculate the sum of adjacent numbers for a given number n in the square\n",
    "def sum_adjacent_numbers(square, n):\n",
    "    if n < 1 or n > len(square) ** 2:\n",
    "        return 0\n",
    "\n",
    "    n_row, n_col = None, None\n",
    "\n",
    "    for i in range(len(square)):\n",
    "        for j in range(len(square)):\n",
    "            if square[i][j] == n:\n",
    "                n_row, n_col = i, j\n",
    "\n",
    "    adjacent_sum = 0\n",
    "\n",
    "    for i in [-1, 0, 1]:\n",
    "        for j in [-1, 0, 1]:\n",
    "            if 0 <= n_row + i < len(square) and 0 <= n_col + j < len(square) and (i != 0 or j != 0):\n",
    "                adjacent_sum += square[n_row + i][n_col + j]\n",
    "\n",
    "    return adjacent_sum\n",
    "\n",
    "def main():\n",
    "    n = int(input())\n",
    "    numbers = [int(line.strip()) for line in sys.stdin]\n",
    "\n",
    "    magic_square = make_square(n)\n",
    "    print_square(magic_square)\n",
    "\n",
    "    for num in numbers:\n",
    "        adjacent_sum = sum_adjacent_numbers(magic_square, num)\n",
    "        print(adjacent_sum)\n",
    "\n",
    "if __name__ == \"__main__\":\n",
    "    main()\n"
   ]
  }
 ],
 "metadata": {
  "kernelspec": {
   "display_name": "Python 3",
   "language": "python",
   "name": "python3"
  },
  "language_info": {
   "codemirror_mode": {
    "name": "ipython",
    "version": 3
   },
   "file_extension": ".py",
   "mimetype": "text/x-python",
   "name": "python",
   "nbconvert_exporter": "python",
   "pygments_lexer": "ipython3",
   "version": "3.11.4"
  },
  "orig_nbformat": 4
 },
 "nbformat": 4,
 "nbformat_minor": 2
}
